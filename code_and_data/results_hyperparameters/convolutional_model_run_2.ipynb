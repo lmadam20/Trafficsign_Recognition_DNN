{
 "cells": [
  {
   "cell_type": "code",
   "execution_count": 1,
   "source": [
    "#!/bin/python3\n",
    "\n",
    "#%%\n",
    "import tensorflow as tf\n",
    "import keras\n",
    "import numpy as np\n",
    "import matplotlib.pyplot as plt\n",
    "import os\n",
    "import keras_tuner as kt\n",
    "import sklearn as skl\n",
    "from sklearn.model_selection import train_test_split\n",
    "\n",
    "print('Tensorflow version: ' + str(tf.__version__))\n",
    "print('Keras version: ' + str(keras.__version__))\n",
    "print('KerasTuner version: ' + str(kt.__version__))\n",
    "print('Scikit-learn version: ' + str(skl.__version__))"
   ],
   "outputs": [
    {
     "output_type": "stream",
     "name": "stdout",
     "text": [
      "Tensorflow version: 2.15.0\n",
      "Keras version: 3.0.5\n",
      "KerasTuner version: 1.4.6\n",
      "Scikit-learn version: 1.3.0\n"
     ]
    }
   ],
   "metadata": {}
  },
  {
   "cell_type": "code",
   "execution_count": 2,
   "source": [
    "# load the datasets\n",
    "path = './datasets/GTSRB/'\n",
    "\n",
    "print('Loading datasets...')\n",
    "training = np.load(os.path.join(path, 'training.npz'), allow_pickle=True)\n",
    "testing = np.load(os.path.join(path, 'testing.npz'), allow_pickle=True)\n",
    "\n",
    "X_train = training['X']\n",
    "y_train = training['y']\n",
    "\n",
    "X_test = testing['X']\n",
    "y_test = testing['y']"
   ],
   "outputs": [
    {
     "output_type": "stream",
     "name": "stdout",
     "text": [
      "Loading datasets...\n"
     ]
    }
   ],
   "metadata": {}
  },
  {
   "cell_type": "code",
   "execution_count": 3,
   "source": [
    "# converting datatypes\n",
    "X_train = np.asarray(X_train).astype('float32')\n",
    "X_test = np.asarray(X_test).astype('float32')"
   ],
   "outputs": [],
   "metadata": {}
  },
  {
   "cell_type": "code",
   "execution_count": 4,
   "source": [
    "# split training data into training and validation set\n",
    "X_train, X_valid, y_train, y_valid = train_test_split(X_train, y_train, test_size=0.2,\n",
    "                                                      shuffle=True)"
   ],
   "outputs": [],
   "metadata": {}
  },
  {
   "cell_type": "code",
   "execution_count": 5,
   "source": [
    "# augment data\n",
    "\n",
    "def augment_data(X):\n",
    "    layers = [\n",
    "        tf.keras.layers.RandomRotation(1/8), # 45 degrees, either cw/ccw\n",
    "        tf.keras.layers.RandomTranslation(0.1, 0.1) # shift w/h by up to 10%\n",
    "    ]\n",
    "\n",
    "    X_augmented = []\n",
    "\n",
    "    for x in X:\n",
    "        for layer in layers:\n",
    "            x = layer(x)\n",
    "        \n",
    "        X_augmented.append(x)\n",
    "    \n",
    "    return np.asarray(X_augmented).astype('float32')\n",
    "\n",
    "print('Augmenting training and validation data...')\n",
    "X_train = tf.py_function(func=augment_data, inp=[X_train], Tout=tf.float32)\n",
    "X_valid = tf.py_function(func=augment_data, inp=[X_valid], Tout=tf.float32)"
   ],
   "outputs": [
    {
     "output_type": "stream",
     "name": "stdout",
     "text": [
      "Augmenting training and validation data...\n"
     ]
    }
   ],
   "metadata": {}
  },
  {
   "cell_type": "code",
   "execution_count": 6,
   "source": [
    "# build model\n",
    "print('Searching and building a model...')\n",
    "\n",
    "def build_model(hp):\n",
    "    activation_functions = ['relu', 'sigmoid', 'softmax', 'softplus', 'softsign', 'tanh',\n",
    "                            'selu', 'elu', 'exponential', 'leaky_relu', 'relu6', 'silu',\n",
    "                            'gelu', 'hard_sigmoid', 'log_softmax', 'mish', 'linear']\n",
    "    filters_0 = hp.Int('filters_0', 64, 256, 32)\n",
    "    filters_1 = hp.Int('filters_1', 128, 384, 32)\n",
    "    units_lc = hp.Int('units_lc', np.min([filters_1 - 32, 96]), np.max([filters_1 + 32, 128]), 8)\n",
    "    activation_lc = hp.Choice('activation_lc', activation_functions)\n",
    "    dropout_l = hp.Float('dropout_l', 0.0, 0.5)\n",
    "    activation_final = hp.Choice('activation_final', activation_functions)\n",
    "\n",
    "    model = tf.keras.Sequential([\n",
    "        tf.keras.layers.Input(shape=(50, 50, 3)),\n",
    "        tf.keras.layers.Conv2D(filters_0, kernel_size=(5, 5)),\n",
    "        tf.keras.layers.MaxPooling2D(pool_size=(5, 3)),\n",
    "        tf.keras.layers.Conv2D(filters_1, kernel_size=(5, 5)),\n",
    "        tf.keras.layers.MaxPooling2D(pool_size=(5, 3)),\n",
    "        tf.keras.layers.Flatten(),\n",
    "        tf.keras.layers.Dense(units_lc, activation=activation_lc),\n",
    "        tf.keras.layers.Dropout(dropout_l),\n",
    "        tf.keras.layers.Dense(43, activation=activation_final)\n",
    "    ])\n",
    "\n",
    "    loss_from_logits = True\n",
    "    if activation_final in ['sigmoid', 'softmax']:\n",
    "        loss_from_logits = False\n",
    "\n",
    "    model.compile(optimizer=tf.keras.optimizers.Adam(learning_rate=0.001),\n",
    "                  loss=tf.keras.losses.SparseCategoricalCrossentropy(from_logits=loss_from_logits),\n",
    "                  metrics=['accuracy'])\n",
    "    return model\n",
    "\n",
    "tuner = kt.BayesianOptimization(build_model,\n",
    "                        project_name='kt_convolutional_model',\n",
    "                        objective='val_accuracy',\n",
    "                        max_trials=20,\n",
    "                        seed=42\n",
    "                        )\n",
    "tuner.search(X_train, y_train, epochs=5, validation_data=(X_valid, y_valid), callbacks=[\n",
    "    tf.keras.callbacks.EarlyStopping(monitor='val_loss', patience=3)\n",
    "])\n",
    "tuner.results_summary()\n",
    "model = tuner.get_best_models()[0]\n",
    "\n",
    "model.summary()"
   ],
   "outputs": [
    {
     "output_type": "stream",
     "name": "stdout",
     "text": [
      "Trial 20 Complete [00h 00m 35s]\n",
      "val_accuracy: 0.9622793197631836\n",
      "\n",
      "Best val_accuracy So Far: 0.9642857313156128\n",
      "Total elapsed time: 00h 19m 28s\n",
      "Results summary\n",
      "Results in .\\kt_convolutional_model\n",
      "Showing 10 best trials\n",
      "Objective(name=\"val_accuracy\", direction=\"max\")\n",
      "\n",
      "Trial 18 summary\n",
      "Hyperparameters:\n",
      "filters_0: 128\n",
      "filters_1: 384\n",
      "units_lc: 144\n",
      "activation_lc: relu6\n",
      "dropout_l: 0.07800932022121826\n",
      "activation_final: softmax\n",
      "Score: 0.9642857313156128\n",
      "\n",
      "Trial 12 summary\n",
      "Hyperparameters:\n",
      "filters_0: 96\n",
      "filters_1: 384\n",
      "units_lc: 152\n",
      "activation_lc: softsign\n",
      "dropout_l: 0.35549113389814224\n",
      "activation_final: mish\n",
      "Score: 0.9626805782318115\n",
      "\n",
      "Trial 19 summary\n",
      "Hyperparameters:\n",
      "filters_0: 64\n",
      "filters_1: 256\n",
      "units_lc: 128\n",
      "activation_lc: relu6\n",
      "dropout_l: 0.3630456668613308\n",
      "activation_final: linear\n",
      "Score: 0.9622793197631836\n",
      "\n",
      "Trial 15 summary\n",
      "Hyperparameters:\n",
      "filters_0: 128\n",
      "filters_1: 256\n",
      "units_lc: 128\n",
      "activation_lc: silu\n",
      "dropout_l: 0.28785810406821527\n",
      "activation_final: sigmoid\n",
      "Score: 0.9578651785850525\n",
      "\n",
      "Trial 17 summary\n",
      "Hyperparameters:\n",
      "filters_0: 160\n",
      "filters_1: 352\n",
      "units_lc: 104\n",
      "activation_lc: relu6\n",
      "dropout_l: 0.2017508771379069\n",
      "activation_final: sigmoid\n",
      "Score: 0.9486356377601624\n",
      "\n",
      "Trial 08 summary\n",
      "Hyperparameters:\n",
      "filters_0: 96\n",
      "filters_1: 128\n",
      "units_lc: 120\n",
      "activation_lc: mish\n",
      "dropout_l: 0.27340077676831653\n",
      "activation_final: gelu\n",
      "Score: 0.9462279081344604\n",
      "\n",
      "Trial 03 summary\n",
      "Hyperparameters:\n",
      "filters_0: 128\n",
      "filters_1: 256\n",
      "units_lc: 160\n",
      "activation_lc: elu\n",
      "dropout_l: 0.23807913111467283\n",
      "activation_final: elu\n",
      "Score: 0.9434189200401306\n",
      "\n",
      "Trial 01 summary\n",
      "Hyperparameters:\n",
      "filters_0: 160\n",
      "filters_1: 128\n",
      "units_lc: 128\n",
      "activation_lc: softsign\n",
      "dropout_l: 0.48917742918549834\n",
      "activation_final: relu6\n",
      "Score: 0.9305778741836548\n",
      "\n",
      "Trial 09 summary\n",
      "Hyperparameters:\n",
      "filters_0: 128\n",
      "filters_1: 160\n",
      "units_lc: 120\n",
      "activation_lc: selu\n",
      "dropout_l: 0.07283462755206516\n",
      "activation_final: leaky_relu\n",
      "Score: 0.9305778741836548\n",
      "\n",
      "Trial 02 summary\n",
      "Hyperparameters:\n",
      "filters_0: 256\n",
      "filters_1: 128\n",
      "units_lc: 160\n",
      "activation_lc: relu\n",
      "dropout_l: 0.29037858246697834\n",
      "activation_final: softplus\n",
      "Score: 0.925762414932251\n"
     ]
    },
    {
     "output_type": "stream",
     "name": "stderr",
     "text": [
      "c:\\Users\\leona\\anaconda3\\Lib\\site-packages\\keras\\src\\saving\\saving_lib.py:396: UserWarning: Skipping variable loading for optimizer 'adam', because it has 2 variables whereas the saved optimizer has 18 variables. \n",
      "  trackable.load_own_variables(weights_store.get(inner_path))\n"
     ]
    },
    {
     "output_type": "display_data",
     "data": {
      "text/html": [
       "<pre style=\"white-space:pre;overflow-x:auto;line-height:normal;font-family:Menlo,'DejaVu Sans Mono',consolas,'Courier New',monospace\"><span style=\"font-weight: bold\">Model: \"sequential\"</span>\n",
       "</pre>\n"
      ],
      "text/plain": [
       "\u001b[1mModel: \"sequential\"\u001b[0m\n"
      ]
     },
     "metadata": {}
    },
    {
     "output_type": "display_data",
     "data": {
      "text/html": [
       "<pre style=\"white-space:pre;overflow-x:auto;line-height:normal;font-family:Menlo,'DejaVu Sans Mono',consolas,'Courier New',monospace\">┏━━━━━━━━━━━━━━━━━━━━━━━━━━━━━━━━━┳━━━━━━━━━━━━━━━━━━━━━━━━┳━━━━━━━━━━━━━━━┓\n",
       "┃<span style=\"font-weight: bold\"> Layer (type)                    </span>┃<span style=\"font-weight: bold\"> Output Shape           </span>┃<span style=\"font-weight: bold\">       Param # </span>┃\n",
       "┡━━━━━━━━━━━━━━━━━━━━━━━━━━━━━━━━━╇━━━━━━━━━━━━━━━━━━━━━━━━╇━━━━━━━━━━━━━━━┩\n",
       "│ conv2d (<span style=\"color: #0087ff; text-decoration-color: #0087ff\">Conv2D</span>)                 │ (<span style=\"color: #00d7ff; text-decoration-color: #00d7ff\">None</span>, <span style=\"color: #00af00; text-decoration-color: #00af00\">46</span>, <span style=\"color: #00af00; text-decoration-color: #00af00\">46</span>, <span style=\"color: #00af00; text-decoration-color: #00af00\">128</span>)    │         <span style=\"color: #00af00; text-decoration-color: #00af00\">9,728</span> │\n",
       "├─────────────────────────────────┼────────────────────────┼───────────────┤\n",
       "│ max_pooling2d (<span style=\"color: #0087ff; text-decoration-color: #0087ff\">MaxPooling2D</span>)    │ (<span style=\"color: #00d7ff; text-decoration-color: #00d7ff\">None</span>, <span style=\"color: #00af00; text-decoration-color: #00af00\">9</span>, <span style=\"color: #00af00; text-decoration-color: #00af00\">15</span>, <span style=\"color: #00af00; text-decoration-color: #00af00\">128</span>)     │             <span style=\"color: #00af00; text-decoration-color: #00af00\">0</span> │\n",
       "├─────────────────────────────────┼────────────────────────┼───────────────┤\n",
       "│ conv2d_1 (<span style=\"color: #0087ff; text-decoration-color: #0087ff\">Conv2D</span>)               │ (<span style=\"color: #00d7ff; text-decoration-color: #00d7ff\">None</span>, <span style=\"color: #00af00; text-decoration-color: #00af00\">5</span>, <span style=\"color: #00af00; text-decoration-color: #00af00\">11</span>, <span style=\"color: #00af00; text-decoration-color: #00af00\">384</span>)     │     <span style=\"color: #00af00; text-decoration-color: #00af00\">1,229,184</span> │\n",
       "├─────────────────────────────────┼────────────────────────┼───────────────┤\n",
       "│ max_pooling2d_1 (<span style=\"color: #0087ff; text-decoration-color: #0087ff\">MaxPooling2D</span>)  │ (<span style=\"color: #00d7ff; text-decoration-color: #00d7ff\">None</span>, <span style=\"color: #00af00; text-decoration-color: #00af00\">1</span>, <span style=\"color: #00af00; text-decoration-color: #00af00\">3</span>, <span style=\"color: #00af00; text-decoration-color: #00af00\">384</span>)      │             <span style=\"color: #00af00; text-decoration-color: #00af00\">0</span> │\n",
       "├─────────────────────────────────┼────────────────────────┼───────────────┤\n",
       "│ flatten (<span style=\"color: #0087ff; text-decoration-color: #0087ff\">Flatten</span>)               │ (<span style=\"color: #00d7ff; text-decoration-color: #00d7ff\">None</span>, <span style=\"color: #00af00; text-decoration-color: #00af00\">1152</span>)           │             <span style=\"color: #00af00; text-decoration-color: #00af00\">0</span> │\n",
       "├─────────────────────────────────┼────────────────────────┼───────────────┤\n",
       "│ dense (<span style=\"color: #0087ff; text-decoration-color: #0087ff\">Dense</span>)                   │ (<span style=\"color: #00d7ff; text-decoration-color: #00d7ff\">None</span>, <span style=\"color: #00af00; text-decoration-color: #00af00\">144</span>)            │       <span style=\"color: #00af00; text-decoration-color: #00af00\">166,032</span> │\n",
       "├─────────────────────────────────┼────────────────────────┼───────────────┤\n",
       "│ dropout (<span style=\"color: #0087ff; text-decoration-color: #0087ff\">Dropout</span>)               │ (<span style=\"color: #00d7ff; text-decoration-color: #00d7ff\">None</span>, <span style=\"color: #00af00; text-decoration-color: #00af00\">144</span>)            │             <span style=\"color: #00af00; text-decoration-color: #00af00\">0</span> │\n",
       "├─────────────────────────────────┼────────────────────────┼───────────────┤\n",
       "│ dense_1 (<span style=\"color: #0087ff; text-decoration-color: #0087ff\">Dense</span>)                 │ (<span style=\"color: #00d7ff; text-decoration-color: #00d7ff\">None</span>, <span style=\"color: #00af00; text-decoration-color: #00af00\">43</span>)             │         <span style=\"color: #00af00; text-decoration-color: #00af00\">6,235</span> │\n",
       "└─────────────────────────────────┴────────────────────────┴───────────────┘\n",
       "</pre>\n"
      ],
      "text/plain": [
       "┏━━━━━━━━━━━━━━━━━━━━━━━━━━━━━━━━━┳━━━━━━━━━━━━━━━━━━━━━━━━┳━━━━━━━━━━━━━━━┓\n",
       "┃\u001b[1m \u001b[0m\u001b[1mLayer (type)                   \u001b[0m\u001b[1m \u001b[0m┃\u001b[1m \u001b[0m\u001b[1mOutput Shape          \u001b[0m\u001b[1m \u001b[0m┃\u001b[1m \u001b[0m\u001b[1m      Param #\u001b[0m\u001b[1m \u001b[0m┃\n",
       "┡━━━━━━━━━━━━━━━━━━━━━━━━━━━━━━━━━╇━━━━━━━━━━━━━━━━━━━━━━━━╇━━━━━━━━━━━━━━━┩\n",
       "│ conv2d (\u001b[38;5;33mConv2D\u001b[0m)                 │ (\u001b[38;5;45mNone\u001b[0m, \u001b[38;5;34m46\u001b[0m, \u001b[38;5;34m46\u001b[0m, \u001b[38;5;34m128\u001b[0m)    │         \u001b[38;5;34m9,728\u001b[0m │\n",
       "├─────────────────────────────────┼────────────────────────┼───────────────┤\n",
       "│ max_pooling2d (\u001b[38;5;33mMaxPooling2D\u001b[0m)    │ (\u001b[38;5;45mNone\u001b[0m, \u001b[38;5;34m9\u001b[0m, \u001b[38;5;34m15\u001b[0m, \u001b[38;5;34m128\u001b[0m)     │             \u001b[38;5;34m0\u001b[0m │\n",
       "├─────────────────────────────────┼────────────────────────┼───────────────┤\n",
       "│ conv2d_1 (\u001b[38;5;33mConv2D\u001b[0m)               │ (\u001b[38;5;45mNone\u001b[0m, \u001b[38;5;34m5\u001b[0m, \u001b[38;5;34m11\u001b[0m, \u001b[38;5;34m384\u001b[0m)     │     \u001b[38;5;34m1,229,184\u001b[0m │\n",
       "├─────────────────────────────────┼────────────────────────┼───────────────┤\n",
       "│ max_pooling2d_1 (\u001b[38;5;33mMaxPooling2D\u001b[0m)  │ (\u001b[38;5;45mNone\u001b[0m, \u001b[38;5;34m1\u001b[0m, \u001b[38;5;34m3\u001b[0m, \u001b[38;5;34m384\u001b[0m)      │             \u001b[38;5;34m0\u001b[0m │\n",
       "├─────────────────────────────────┼────────────────────────┼───────────────┤\n",
       "│ flatten (\u001b[38;5;33mFlatten\u001b[0m)               │ (\u001b[38;5;45mNone\u001b[0m, \u001b[38;5;34m1152\u001b[0m)           │             \u001b[38;5;34m0\u001b[0m │\n",
       "├─────────────────────────────────┼────────────────────────┼───────────────┤\n",
       "│ dense (\u001b[38;5;33mDense\u001b[0m)                   │ (\u001b[38;5;45mNone\u001b[0m, \u001b[38;5;34m144\u001b[0m)            │       \u001b[38;5;34m166,032\u001b[0m │\n",
       "├─────────────────────────────────┼────────────────────────┼───────────────┤\n",
       "│ dropout (\u001b[38;5;33mDropout\u001b[0m)               │ (\u001b[38;5;45mNone\u001b[0m, \u001b[38;5;34m144\u001b[0m)            │             \u001b[38;5;34m0\u001b[0m │\n",
       "├─────────────────────────────────┼────────────────────────┼───────────────┤\n",
       "│ dense_1 (\u001b[38;5;33mDense\u001b[0m)                 │ (\u001b[38;5;45mNone\u001b[0m, \u001b[38;5;34m43\u001b[0m)             │         \u001b[38;5;34m6,235\u001b[0m │\n",
       "└─────────────────────────────────┴────────────────────────┴───────────────┘\n"
      ]
     },
     "metadata": {}
    },
    {
     "output_type": "display_data",
     "data": {
      "text/html": [
       "<pre style=\"white-space:pre;overflow-x:auto;line-height:normal;font-family:Menlo,'DejaVu Sans Mono',consolas,'Courier New',monospace\"><span style=\"font-weight: bold\"> Total params: </span><span style=\"color: #00af00; text-decoration-color: #00af00\">1,411,179</span> (5.38 MB)\n",
       "</pre>\n"
      ],
      "text/plain": [
       "\u001b[1m Total params: \u001b[0m\u001b[38;5;34m1,411,179\u001b[0m (5.38 MB)\n"
      ]
     },
     "metadata": {}
    },
    {
     "output_type": "display_data",
     "data": {
      "text/html": [
       "<pre style=\"white-space:pre;overflow-x:auto;line-height:normal;font-family:Menlo,'DejaVu Sans Mono',consolas,'Courier New',monospace\"><span style=\"font-weight: bold\"> Trainable params: </span><span style=\"color: #00af00; text-decoration-color: #00af00\">1,411,179</span> (5.38 MB)\n",
       "</pre>\n"
      ],
      "text/plain": [
       "\u001b[1m Trainable params: \u001b[0m\u001b[38;5;34m1,411,179\u001b[0m (5.38 MB)\n"
      ]
     },
     "metadata": {}
    },
    {
     "output_type": "display_data",
     "data": {
      "text/html": [
       "<pre style=\"white-space:pre;overflow-x:auto;line-height:normal;font-family:Menlo,'DejaVu Sans Mono',consolas,'Courier New',monospace\"><span style=\"font-weight: bold\"> Non-trainable params: </span><span style=\"color: #00af00; text-decoration-color: #00af00\">0</span> (0.00 B)\n",
       "</pre>\n"
      ],
      "text/plain": [
       "\u001b[1m Non-trainable params: \u001b[0m\u001b[38;5;34m0\u001b[0m (0.00 B)\n"
      ]
     },
     "metadata": {}
    }
   ],
   "metadata": {}
  },
  {
   "cell_type": "code",
   "execution_count": 7,
   "source": [
    "# fit model\n",
    "print('Fitting model...')\n",
    "history = model.fit(X_train, y_train, epochs=50, validation_data=(X_valid, y_valid), callbacks=[\n",
    "    tf.keras.callbacks.EarlyStopping(monitor='val_loss', patience=5,\n",
    "                                     restore_best_weights=True)\n",
    "])"
   ],
   "outputs": [
    {
     "output_type": "stream",
     "name": "stdout",
     "text": [
      "Fitting model...\n",
      "Epoch 1/50\n",
      "\u001b[1m312/312\u001b[0m \u001b[32m━━━━━━━━━━━━━━━━━━━━\u001b[0m\u001b[37m\u001b[0m \u001b[1m17s\u001b[0m 50ms/step - accuracy: 0.9697 - loss: 0.0998 - val_accuracy: 0.9298 - val_loss: 0.2288\n",
      "Epoch 2/50\n",
      "\u001b[1m312/312\u001b[0m \u001b[32m━━━━━━━━━━━━━━━━━━━━\u001b[0m\u001b[37m\u001b[0m \u001b[1m15s\u001b[0m 49ms/step - accuracy: 0.9617 - loss: 0.1196 - val_accuracy: 0.9358 - val_loss: 0.2309\n",
      "Epoch 3/50\n",
      "\u001b[1m312/312\u001b[0m \u001b[32m━━━━━━━━━━━━━━━━━━━━\u001b[0m\u001b[37m\u001b[0m \u001b[1m15s\u001b[0m 48ms/step - accuracy: 0.9673 - loss: 0.0989 - val_accuracy: 0.9314 - val_loss: 0.2328\n",
      "Epoch 4/50\n",
      "\u001b[1m312/312\u001b[0m \u001b[32m━━━━━━━━━━━━━━━━━━━━\u001b[0m\u001b[37m\u001b[0m \u001b[1m15s\u001b[0m 48ms/step - accuracy: 0.9609 - loss: 0.1136 - val_accuracy: 0.9402 - val_loss: 0.1906\n",
      "Epoch 5/50\n",
      "\u001b[1m312/312\u001b[0m \u001b[32m━━━━━━━━━━━━━━━━━━━━\u001b[0m\u001b[37m\u001b[0m \u001b[1m15s\u001b[0m 48ms/step - accuracy: 0.9595 - loss: 0.1242 - val_accuracy: 0.9498 - val_loss: 0.1676\n",
      "Epoch 6/50\n",
      "\u001b[1m312/312\u001b[0m \u001b[32m━━━━━━━━━━━━━━━━━━━━\u001b[0m\u001b[37m\u001b[0m \u001b[1m15s\u001b[0m 49ms/step - accuracy: 0.9733 - loss: 0.0824 - val_accuracy: 0.9478 - val_loss: 0.1885\n",
      "Epoch 7/50\n",
      "\u001b[1m312/312\u001b[0m \u001b[32m━━━━━━━━━━━━━━━━━━━━\u001b[0m\u001b[37m\u001b[0m \u001b[1m15s\u001b[0m 48ms/step - accuracy: 0.9800 - loss: 0.0597 - val_accuracy: 0.9366 - val_loss: 0.2013\n",
      "Epoch 8/50\n",
      "\u001b[1m312/312\u001b[0m \u001b[32m━━━━━━━━━━━━━━━━━━━━\u001b[0m\u001b[37m\u001b[0m \u001b[1m15s\u001b[0m 49ms/step - accuracy: 0.9582 - loss: 0.1316 - val_accuracy: 0.9366 - val_loss: 0.2295\n",
      "Epoch 9/50\n",
      "\u001b[1m312/312\u001b[0m \u001b[32m━━━━━━━━━━━━━━━━━━━━\u001b[0m\u001b[37m\u001b[0m \u001b[1m15s\u001b[0m 49ms/step - accuracy: 0.9729 - loss: 0.0798 - val_accuracy: 0.9286 - val_loss: 0.2888\n",
      "Epoch 10/50\n",
      "\u001b[1m312/312\u001b[0m \u001b[32m━━━━━━━━━━━━━━━━━━━━\u001b[0m\u001b[37m\u001b[0m \u001b[1m15s\u001b[0m 49ms/step - accuracy: 0.9430 - loss: 0.1831 - val_accuracy: 0.9266 - val_loss: 0.2601\n"
     ]
    }
   ],
   "metadata": {}
  },
  {
   "cell_type": "code",
   "execution_count": 8,
   "source": [
    "# save model\n",
    "model.save('convolutional_model.keras')"
   ],
   "outputs": [],
   "metadata": {}
  },
  {
   "cell_type": "code",
   "execution_count": 9,
   "source": [
    "# load model\n",
    "model = tf.keras.models.load_model('convolutional_model.keras')"
   ],
   "outputs": [],
   "metadata": {}
  },
  {
   "cell_type": "code",
   "execution_count": 10,
   "source": [
    "# testing\n",
    "test_loss, test_acc = model.evaluate(X_test, y_test, verbose=2)\n",
    "print('Test accuracy:', test_acc)"
   ],
   "outputs": [
    {
     "output_type": "stream",
     "name": "stdout",
     "text": [
      "121/121 - 2s - 17ms/step - accuracy: 0.9409 - loss: 0.2624\n",
      "Test accuracy: 0.9409008026123047\n",
      "Test accuracy: 0.9409008026123047\n"
     ]
    }
   ],
   "metadata": {}
  }
 ],
 "nbformat": 4,
 "nbformat_minor": 2,
 "metadata": {
  "language_info": {
   "codemirror_mode": {
    "name": "ipython",
    "version": 3
   },
   "file_extension": ".py",
   "mimetype": "text/x-python",
   "name": "python",
   "nbconvert_exporter": "python",
   "pygments_lexer": "ipython3",
   "version": 3
  }
 }
}