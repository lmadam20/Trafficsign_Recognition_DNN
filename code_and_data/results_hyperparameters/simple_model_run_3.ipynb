{
 "cells": [
  {
   "cell_type": "code",
   "execution_count": 1,
   "source": [
    "#!/bin/python3\n",
    "\n",
    "#%%\n",
    "import tensorflow as tf\n",
    "import keras\n",
    "import numpy as np\n",
    "import matplotlib.pyplot as plt\n",
    "import os\n",
    "import keras_tuner as kt\n",
    "import sklearn as skl\n",
    "from sklearn.model_selection import train_test_split\n",
    "\n",
    "print('Tensorflow version: ' + str(tf.__version__))\n",
    "print('Keras version: ' + str(keras.__version__))\n",
    "print('KerasTuner version: ' + str(kt.__version__))\n",
    "print('Scikit-learn version: ' + str(skl.__version__))"
   ],
   "outputs": [
    {
     "output_type": "stream",
     "name": "stdout",
     "text": [
      "Tensorflow version: 2.15.0\n",
      "Keras version: 3.0.5\n",
      "KerasTuner version: 1.4.6\n",
      "Scikit-learn version: 1.3.0\n"
     ]
    }
   ],
   "metadata": {}
  },
  {
   "cell_type": "code",
   "execution_count": 2,
   "source": [
    "# load the datasets\n",
    "path = './datasets/GTSRB/'\n",
    "\n",
    "print('Loading datasets...')\n",
    "training = np.load(os.path.join(path, 'training.npz'), allow_pickle=True)\n",
    "testing = np.load(os.path.join(path, 'testing.npz'), allow_pickle=True)\n",
    "\n",
    "X_train = training['X']\n",
    "y_train = training['y']\n",
    "\n",
    "X_test = testing['X']\n",
    "y_test = testing['y']"
   ],
   "outputs": [
    {
     "output_type": "stream",
     "name": "stdout",
     "text": [
      "Loading datasets...\n"
     ]
    }
   ],
   "metadata": {}
  },
  {
   "cell_type": "code",
   "execution_count": 3,
   "source": [
    "# converting datatypes\n",
    "X_train = np.asarray(X_train).astype('float32')\n",
    "X_test = np.asarray(X_test).astype('float32')"
   ],
   "outputs": [],
   "metadata": {}
  },
  {
   "cell_type": "code",
   "execution_count": 4,
   "source": [
    "# split training data into training and validation set\n",
    "X_train, X_valid, y_train, y_valid = train_test_split(X_train, y_train, test_size=0.2,\n",
    "                                                      shuffle=True)"
   ],
   "outputs": [],
   "metadata": {}
  },
  {
   "cell_type": "code",
   "execution_count": 5,
   "source": [
    "# augment data\n",
    "\n",
    "def augment_data(X):\n",
    "    layers = [\n",
    "        tf.keras.layers.RandomRotation(1/8), # 45 degrees, either cw/ccw\n",
    "        tf.keras.layers.RandomTranslation(0.1, 0.1) # shift w/h by up to 10%\n",
    "    ]\n",
    "\n",
    "    X_augmented = []\n",
    "\n",
    "    for x in X:\n",
    "        for layer in layers:\n",
    "            x = layer(x)\n",
    "        \n",
    "        X_augmented.append(x)\n",
    "    \n",
    "    return np.asarray(X_augmented).astype('float32')\n",
    "\n",
    "print('Augmenting training and validation data...')\n",
    "X_train = tf.py_function(func=augment_data, inp=[X_train], Tout=tf.float32)\n",
    "X_valid = tf.py_function(func=augment_data, inp=[X_valid], Tout=tf.float32)"
   ],
   "outputs": [
    {
     "output_type": "stream",
     "name": "stdout",
     "text": [
      "Augmenting training and validation data...\n"
     ]
    }
   ],
   "metadata": {}
  },
  {
   "cell_type": "code",
   "execution_count": 6,
   "source": [
    "# build model\n",
    "print('Searching and building a model...')\n",
    "\n",
    "def build_model(hp):\n",
    "    activation_functions = ['relu', 'sigmoid', 'softmax', 'softplus', 'softsign', 'tanh',\n",
    "                            'selu', 'elu', 'exponential', 'leaky_relu', 'relu6', 'silu',\n",
    "                            'gelu', 'hard_sigmoid', 'log_softmax', 'mish', 'linear']\n",
    "    units_l0 = hp.Int('units_l0', 256, 1024, 128)\n",
    "    activation_l0 = hp.Choice('activation_l0', activation_functions)\n",
    "    units_l1 = hp.Int('units_l1', 256, 1024, 128)\n",
    "    activation_l1 = hp.Choice('activation_l1', activation_functions)\n",
    "    dropout_l2 = hp.Float('dropout_l2', 0.0, 0.5)\n",
    "    activation_final = hp.Choice('activation_final', activation_functions)\n",
    "\n",
    "    model = tf.keras.Sequential([\n",
    "        tf.keras.layers.Input(shape=(50, 50, 3)),\n",
    "        tf.keras.layers.Flatten(),\n",
    "        tf.keras.layers.Dense(units_l0,\n",
    "                              activation=activation_l0),\n",
    "        tf.keras.layers.Dense(units_l1,\n",
    "                              activation=activation_l1),\n",
    "        tf.keras.layers.Dropout(dropout_l2),\n",
    "        tf.keras.layers.Dense(43, activation=activation_final) # 43 classes\n",
    "    ])\n",
    "\n",
    "    loss_from_logits = True\n",
    "    if activation_final in ['sigmoid', 'softmax']:\n",
    "        loss_from_logits = False\n",
    "    \n",
    "    model.compile(optimizer=tf.keras.optimizers.Adam(learning_rate=0.001),\n",
    "                  loss=tf.keras.losses.SparseCategoricalCrossentropy(from_logits=loss_from_logits),\n",
    "                  metrics=['accuracy'])\n",
    "    return model\n",
    "\n",
    "tuner = kt.BayesianOptimization(build_model,\n",
    "                        project_name='kt_simple_model',\n",
    "                        objective='val_accuracy',\n",
    "                        max_trials=20,\n",
    "                        seed=42\n",
    "                        )\n",
    "tuner.search(X_train, y_train, epochs=5, validation_data=(X_valid, y_valid), callbacks=[\n",
    "    tf.keras.callbacks.EarlyStopping(monitor='val_loss', patience=3)\n",
    "])\n",
    "tuner.results_summary()\n",
    "model = tuner.get_best_models()[0]\n",
    "\n",
    "model.summary()"
   ],
   "outputs": [
    {
     "output_type": "stream",
     "name": "stdout",
     "text": [
      "Trial 20 Complete [00h 00m 26s]\n",
      "val_accuracy: 0.4349919855594635\n",
      "\n",
      "Best val_accuracy So Far: 0.45465490221977234\n",
      "Total elapsed time: 00h 17m 04s\n",
      "Results summary\n",
      "Results in .\\kt_simple_model\n",
      "Showing 10 best trials\n",
      "Objective(name=\"val_accuracy\", direction=\"max\")\n",
      "\n",
      "Trial 09 summary\n",
      "Hyperparameters:\n",
      "units_l0: 512\n",
      "activation_l0: softplus\n",
      "units_l1: 512\n",
      "activation_l1: selu\n",
      "dropout_l2: 0.07283462755206516\n",
      "activation_final: leaky_relu\n",
      "Score: 0.45465490221977234\n",
      "\n",
      "Trial 19 summary\n",
      "Hyperparameters:\n",
      "units_l0: 256\n",
      "activation_l0: leaky_relu\n",
      "units_l1: 640\n",
      "activation_l1: relu6\n",
      "dropout_l2: 0.3630456668613308\n",
      "activation_final: linear\n",
      "Score: 0.4349919855594635\n",
      "\n",
      "Trial 02 summary\n",
      "Hyperparameters:\n",
      "units_l0: 1024\n",
      "activation_l0: sigmoid\n",
      "units_l1: 1024\n",
      "activation_l1: relu\n",
      "dropout_l2: 0.29037858246697834\n",
      "activation_final: softplus\n",
      "Score: 0.19060994684696198\n",
      "\n",
      "Trial 12 summary\n",
      "Hyperparameters:\n",
      "units_l0: 384\n",
      "activation_l0: mish\n",
      "units_l1: 896\n",
      "activation_l1: softsign\n",
      "dropout_l2: 0.35549113389814224\n",
      "activation_final: mish\n",
      "Score: 0.105136439204216\n",
      "\n",
      "Trial 15 summary\n",
      "Hyperparameters:\n",
      "units_l0: 512\n",
      "activation_l0: exponential\n",
      "units_l1: 640\n",
      "activation_l1: silu\n",
      "dropout_l2: 0.28785810406821527\n",
      "activation_final: sigmoid\n",
      "Score: 0.08346709609031677\n",
      "\n",
      "Trial 03 summary\n",
      "Hyperparameters:\n",
      "units_l0: 512\n",
      "activation_l0: exponential\n",
      "units_l1: 1024\n",
      "activation_l1: elu\n",
      "dropout_l2: 0.23807913111467283\n",
      "activation_final: elu\n",
      "Score: 0.07624398171901703\n",
      "\n",
      "Trial 04 summary\n",
      "Hyperparameters:\n",
      "units_l0: 256\n",
      "activation_l0: sigmoid\n",
      "units_l1: 896\n",
      "activation_l1: silu\n",
      "dropout_l2: 0.454884618961936\n",
      "activation_final: tanh\n",
      "Score: 0.06460674107074738\n",
      "\n",
      "Trial 05 summary\n",
      "Hyperparameters:\n",
      "units_l0: 256\n",
      "activation_l0: softsign\n",
      "units_l1: 1024\n",
      "activation_l1: elu\n",
      "dropout_l2: 0.18527832054815352\n",
      "activation_final: hard_sigmoid\n",
      "Score: 0.03130016103386879\n",
      "\n",
      "Trial 10 summary\n",
      "Hyperparameters:\n",
      "units_l0: 384\n",
      "activation_l0: linear\n",
      "units_l1: 1024\n",
      "activation_l1: log_softmax\n",
      "dropout_l2: 0.3553418665312464\n",
      "activation_final: softsign\n",
      "Score: 0.03130016103386879\n",
      "\n",
      "Trial 13 summary\n",
      "Hyperparameters:\n",
      "units_l0: 640\n",
      "activation_l0: sigmoid\n",
      "units_l1: 640\n",
      "activation_l1: relu\n",
      "dropout_l2: 0.4803903783776163\n",
      "activation_final: mish\n",
      "Score: 0.03130016103386879\n"
     ]
    },
    {
     "output_type": "stream",
     "name": "stderr",
     "text": [
      "c:\\Users\\leona\\anaconda3\\Lib\\site-packages\\keras\\src\\saving\\saving_lib.py:396: UserWarning: Skipping variable loading for optimizer 'adam', because it has 2 variables whereas the saved optimizer has 14 variables. \n",
      "  trackable.load_own_variables(weights_store.get(inner_path))\n"
     ]
    },
    {
     "output_type": "display_data",
     "data": {
      "text/html": [
       "<pre style=\"white-space:pre;overflow-x:auto;line-height:normal;font-family:Menlo,'DejaVu Sans Mono',consolas,'Courier New',monospace\"><span style=\"font-weight: bold\">Model: \"sequential\"</span>\n",
       "</pre>\n"
      ],
      "text/plain": [
       "\u001b[1mModel: \"sequential\"\u001b[0m\n"
      ]
     },
     "metadata": {}
    },
    {
     "output_type": "display_data",
     "data": {
      "text/html": [
       "<pre style=\"white-space:pre;overflow-x:auto;line-height:normal;font-family:Menlo,'DejaVu Sans Mono',consolas,'Courier New',monospace\">┏━━━━━━━━━━━━━━━━━━━━━━━━━━━━━━━━━┳━━━━━━━━━━━━━━━━━━━━━━━━┳━━━━━━━━━━━━━━━┓\n",
       "┃<span style=\"font-weight: bold\"> Layer (type)                    </span>┃<span style=\"font-weight: bold\"> Output Shape           </span>┃<span style=\"font-weight: bold\">       Param # </span>┃\n",
       "┡━━━━━━━━━━━━━━━━━━━━━━━━━━━━━━━━━╇━━━━━━━━━━━━━━━━━━━━━━━━╇━━━━━━━━━━━━━━━┩\n",
       "│ flatten (<span style=\"color: #0087ff; text-decoration-color: #0087ff\">Flatten</span>)               │ (<span style=\"color: #00d7ff; text-decoration-color: #00d7ff\">None</span>, <span style=\"color: #00af00; text-decoration-color: #00af00\">7500</span>)           │             <span style=\"color: #00af00; text-decoration-color: #00af00\">0</span> │\n",
       "├─────────────────────────────────┼────────────────────────┼───────────────┤\n",
       "│ dense (<span style=\"color: #0087ff; text-decoration-color: #0087ff\">Dense</span>)                   │ (<span style=\"color: #00d7ff; text-decoration-color: #00d7ff\">None</span>, <span style=\"color: #00af00; text-decoration-color: #00af00\">512</span>)            │     <span style=\"color: #00af00; text-decoration-color: #00af00\">3,840,512</span> │\n",
       "├─────────────────────────────────┼────────────────────────┼───────────────┤\n",
       "│ dense_1 (<span style=\"color: #0087ff; text-decoration-color: #0087ff\">Dense</span>)                 │ (<span style=\"color: #00d7ff; text-decoration-color: #00d7ff\">None</span>, <span style=\"color: #00af00; text-decoration-color: #00af00\">512</span>)            │       <span style=\"color: #00af00; text-decoration-color: #00af00\">262,656</span> │\n",
       "├─────────────────────────────────┼────────────────────────┼───────────────┤\n",
       "│ dropout (<span style=\"color: #0087ff; text-decoration-color: #0087ff\">Dropout</span>)               │ (<span style=\"color: #00d7ff; text-decoration-color: #00d7ff\">None</span>, <span style=\"color: #00af00; text-decoration-color: #00af00\">512</span>)            │             <span style=\"color: #00af00; text-decoration-color: #00af00\">0</span> │\n",
       "├─────────────────────────────────┼────────────────────────┼───────────────┤\n",
       "│ dense_2 (<span style=\"color: #0087ff; text-decoration-color: #0087ff\">Dense</span>)                 │ (<span style=\"color: #00d7ff; text-decoration-color: #00d7ff\">None</span>, <span style=\"color: #00af00; text-decoration-color: #00af00\">43</span>)             │        <span style=\"color: #00af00; text-decoration-color: #00af00\">22,059</span> │\n",
       "└─────────────────────────────────┴────────────────────────┴───────────────┘\n",
       "</pre>\n"
      ],
      "text/plain": [
       "┏━━━━━━━━━━━━━━━━━━━━━━━━━━━━━━━━━┳━━━━━━━━━━━━━━━━━━━━━━━━┳━━━━━━━━━━━━━━━┓\n",
       "┃\u001b[1m \u001b[0m\u001b[1mLayer (type)                   \u001b[0m\u001b[1m \u001b[0m┃\u001b[1m \u001b[0m\u001b[1mOutput Shape          \u001b[0m\u001b[1m \u001b[0m┃\u001b[1m \u001b[0m\u001b[1m      Param #\u001b[0m\u001b[1m \u001b[0m┃\n",
       "┡━━━━━━━━━━━━━━━━━━━━━━━━━━━━━━━━━╇━━━━━━━━━━━━━━━━━━━━━━━━╇━━━━━━━━━━━━━━━┩\n",
       "│ flatten (\u001b[38;5;33mFlatten\u001b[0m)               │ (\u001b[38;5;45mNone\u001b[0m, \u001b[38;5;34m7500\u001b[0m)           │             \u001b[38;5;34m0\u001b[0m │\n",
       "├─────────────────────────────────┼────────────────────────┼───────────────┤\n",
       "│ dense (\u001b[38;5;33mDense\u001b[0m)                   │ (\u001b[38;5;45mNone\u001b[0m, \u001b[38;5;34m512\u001b[0m)            │     \u001b[38;5;34m3,840,512\u001b[0m │\n",
       "├─────────────────────────────────┼────────────────────────┼───────────────┤\n",
       "│ dense_1 (\u001b[38;5;33mDense\u001b[0m)                 │ (\u001b[38;5;45mNone\u001b[0m, \u001b[38;5;34m512\u001b[0m)            │       \u001b[38;5;34m262,656\u001b[0m │\n",
       "├─────────────────────────────────┼────────────────────────┼───────────────┤\n",
       "│ dropout (\u001b[38;5;33mDropout\u001b[0m)               │ (\u001b[38;5;45mNone\u001b[0m, \u001b[38;5;34m512\u001b[0m)            │             \u001b[38;5;34m0\u001b[0m │\n",
       "├─────────────────────────────────┼────────────────────────┼───────────────┤\n",
       "│ dense_2 (\u001b[38;5;33mDense\u001b[0m)                 │ (\u001b[38;5;45mNone\u001b[0m, \u001b[38;5;34m43\u001b[0m)             │        \u001b[38;5;34m22,059\u001b[0m │\n",
       "└─────────────────────────────────┴────────────────────────┴───────────────┘\n"
      ]
     },
     "metadata": {}
    },
    {
     "output_type": "display_data",
     "data": {
      "text/html": [
       "<pre style=\"white-space:pre;overflow-x:auto;line-height:normal;font-family:Menlo,'DejaVu Sans Mono',consolas,'Courier New',monospace\"><span style=\"font-weight: bold\"> Total params: </span><span style=\"color: #00af00; text-decoration-color: #00af00\">4,125,227</span> (15.74 MB)\n",
       "</pre>\n"
      ],
      "text/plain": [
       "\u001b[1m Total params: \u001b[0m\u001b[38;5;34m4,125,227\u001b[0m (15.74 MB)\n"
      ]
     },
     "metadata": {}
    },
    {
     "output_type": "display_data",
     "data": {
      "text/html": [
       "<pre style=\"white-space:pre;overflow-x:auto;line-height:normal;font-family:Menlo,'DejaVu Sans Mono',consolas,'Courier New',monospace\"><span style=\"font-weight: bold\"> Trainable params: </span><span style=\"color: #00af00; text-decoration-color: #00af00\">4,125,227</span> (15.74 MB)\n",
       "</pre>\n"
      ],
      "text/plain": [
       "\u001b[1m Trainable params: \u001b[0m\u001b[38;5;34m4,125,227\u001b[0m (15.74 MB)\n"
      ]
     },
     "metadata": {}
    },
    {
     "output_type": "display_data",
     "data": {
      "text/html": [
       "<pre style=\"white-space:pre;overflow-x:auto;line-height:normal;font-family:Menlo,'DejaVu Sans Mono',consolas,'Courier New',monospace\"><span style=\"font-weight: bold\"> Non-trainable params: </span><span style=\"color: #00af00; text-decoration-color: #00af00\">0</span> (0.00 B)\n",
       "</pre>\n"
      ],
      "text/plain": [
       "\u001b[1m Non-trainable params: \u001b[0m\u001b[38;5;34m0\u001b[0m (0.00 B)\n"
      ]
     },
     "metadata": {}
    }
   ],
   "metadata": {}
  },
  {
   "cell_type": "code",
   "execution_count": 7,
   "source": [
    "# fit model\n",
    "print('Fitting model...')\n",
    "history = model.fit(X_train, y_train, epochs=50, validation_data=(X_valid, y_valid), callbacks=[\n",
    "    tf.keras.callbacks.EarlyStopping(monitor='val_loss', patience=5,\n",
    "                                     restore_best_weights=True)\n",
    "])"
   ],
   "outputs": [
    {
     "output_type": "stream",
     "name": "stdout",
     "text": [
      "Fitting model...\n",
      "Epoch 1/50\n",
      "\u001b[1m312/312\u001b[0m \u001b[32m━━━━━━━━━━━━━━━━━━━━\u001b[0m\u001b[37m\u001b[0m \u001b[1m11s\u001b[0m 31ms/step - accuracy: 0.4616 - loss: 1.7758 - val_accuracy: 0.4627 - val_loss: 1.7177\n",
      "Epoch 2/50\n",
      "\u001b[1m312/312\u001b[0m \u001b[32m━━━━━━━━━━━━━━━━━━━━\u001b[0m\u001b[37m\u001b[0m \u001b[1m9s\u001b[0m 30ms/step - accuracy: 0.5115 - loss: 1.5779 - val_accuracy: 0.4535 - val_loss: 1.8263\n",
      "Epoch 3/50\n",
      "\u001b[1m312/312\u001b[0m \u001b[32m━━━━━━━━━━━━━━━━━━━━\u001b[0m\u001b[37m\u001b[0m \u001b[1m9s\u001b[0m 30ms/step - accuracy: 0.5426 - loss: 1.4659 - val_accuracy: 0.5060 - val_loss: 1.5952\n",
      "Epoch 4/50\n",
      "\u001b[1m312/312\u001b[0m \u001b[32m━━━━━━━━━━━━━━━━━━━━\u001b[0m\u001b[37m\u001b[0m \u001b[1m9s\u001b[0m 30ms/step - accuracy: 0.5682 - loss: 1.3667 - val_accuracy: 0.5024 - val_loss: 1.6286\n",
      "Epoch 5/50\n",
      "\u001b[1m312/312\u001b[0m \u001b[32m━━━━━━━━━━━━━━━━━━━━\u001b[0m\u001b[37m\u001b[0m \u001b[1m9s\u001b[0m 30ms/step - accuracy: 0.5983 - loss: 1.2624 - val_accuracy: 0.5494 - val_loss: 1.4516\n",
      "Epoch 6/50\n",
      "\u001b[1m312/312\u001b[0m \u001b[32m━━━━━━━━━━━━━━━━━━━━\u001b[0m\u001b[37m\u001b[0m \u001b[1m9s\u001b[0m 30ms/step - accuracy: 0.6111 - loss: 1.1854 - val_accuracy: 0.5377 - val_loss: 1.4984\n",
      "Epoch 7/50\n",
      "\u001b[1m312/312\u001b[0m \u001b[32m━━━━━━━━━━━━━━━━━━━━\u001b[0m\u001b[37m\u001b[0m \u001b[1m10s\u001b[0m 30ms/step - accuracy: 0.6493 - loss: 1.0846 - val_accuracy: 0.5943 - val_loss: 1.3666\n",
      "Epoch 8/50\n",
      "\u001b[1m312/312\u001b[0m \u001b[32m━━━━━━━━━━━━━━━━━━━━\u001b[0m\u001b[37m\u001b[0m \u001b[1m9s\u001b[0m 30ms/step - accuracy: 0.6658 - loss: 1.0337 - val_accuracy: 0.6027 - val_loss: 1.2987\n",
      "Epoch 9/50\n",
      "\u001b[1m312/312\u001b[0m \u001b[32m━━━━━━━━━━━━━━━━━━━━\u001b[0m\u001b[37m\u001b[0m \u001b[1m9s\u001b[0m 30ms/step - accuracy: 0.6921 - loss: 0.9432 - val_accuracy: 0.6023 - val_loss: 1.3129\n",
      "Epoch 10/50\n",
      "\u001b[1m312/312\u001b[0m \u001b[32m━━━━━━━━━━━━━━━━━━━━\u001b[0m\u001b[37m\u001b[0m \u001b[1m9s\u001b[0m 30ms/step - accuracy: 0.6951 - loss: 0.9330 - val_accuracy: 0.6067 - val_loss: 1.3137\n",
      "Epoch 11/50\n",
      "\u001b[1m312/312\u001b[0m \u001b[32m━━━━━━━━━━━━━━━━━━━━\u001b[0m\u001b[37m\u001b[0m \u001b[1m9s\u001b[0m 30ms/step - accuracy: 0.7142 - loss: 0.8594 - val_accuracy: 0.6096 - val_loss: 1.2933\n",
      "Epoch 12/50\n",
      "\u001b[1m312/312\u001b[0m \u001b[32m━━━━━━━━━━━━━━━━━━━━\u001b[0m\u001b[37m\u001b[0m \u001b[1m9s\u001b[0m 30ms/step - accuracy: 0.7423 - loss: 0.7953 - val_accuracy: 0.5301 - val_loss: 1.6713\n",
      "Epoch 13/50\n",
      "\u001b[1m312/312\u001b[0m \u001b[32m━━━━━━━━━━━━━━━━━━━━\u001b[0m\u001b[37m\u001b[0m \u001b[1m9s\u001b[0m 30ms/step - accuracy: 0.7400 - loss: 0.7750 - val_accuracy: 0.6429 - val_loss: 1.1691\n",
      "Epoch 14/50\n",
      "\u001b[1m312/312\u001b[0m \u001b[32m━━━━━━━━━━━━━━━━━━━━\u001b[0m\u001b[37m\u001b[0m \u001b[1m10s\u001b[0m 31ms/step - accuracy: 0.7790 - loss: 0.6780 - val_accuracy: 0.6276 - val_loss: 1.2439\n",
      "Epoch 15/50\n",
      "\u001b[1m312/312\u001b[0m \u001b[32m━━━━━━━━━━━━━━━━━━━━\u001b[0m\u001b[37m\u001b[0m \u001b[1m10s\u001b[0m 30ms/step - accuracy: 0.7951 - loss: 0.6196 - val_accuracy: 0.6489 - val_loss: 1.1771\n",
      "Epoch 16/50\n",
      "\u001b[1m312/312\u001b[0m \u001b[32m━━━━━━━━━━━━━━━━━━━━\u001b[0m\u001b[37m\u001b[0m \u001b[1m9s\u001b[0m 30ms/step - accuracy: 0.8009 - loss: 0.6125 - val_accuracy: 0.5746 - val_loss: 1.4469\n",
      "Epoch 17/50\n",
      "\u001b[1m312/312\u001b[0m \u001b[32m━━━━━━━━━━━━━━━━━━━━\u001b[0m\u001b[37m\u001b[0m \u001b[1m10s\u001b[0m 30ms/step - accuracy: 0.8052 - loss: 0.5975 - val_accuracy: 0.6465 - val_loss: 1.2058\n",
      "Epoch 18/50\n",
      "\u001b[1m312/312\u001b[0m \u001b[32m━━━━━━━━━━━━━━━━━━━━\u001b[0m\u001b[37m\u001b[0m \u001b[1m10s\u001b[0m 31ms/step - accuracy: 0.8251 - loss: 0.5351 - val_accuracy: 0.6328 - val_loss: 1.3114\n"
     ]
    }
   ],
   "metadata": {}
  },
  {
   "cell_type": "code",
   "execution_count": 8,
   "source": [
    "# save model\n",
    "model.save('simple_model.keras')"
   ],
   "outputs": [],
   "metadata": {}
  },
  {
   "cell_type": "code",
   "execution_count": 9,
   "source": [
    "# load model\n",
    "model = tf.keras.models.load_model('simple_model.keras')"
   ],
   "outputs": [],
   "metadata": {}
  },
  {
   "cell_type": "code",
   "execution_count": 10,
   "source": [
    "# testing\n",
    "test_loss, test_acc = model.evaluate(X_test, y_test, verbose=2)\n",
    "print('Test accuracy:', test_acc)"
   ],
   "outputs": [
    {
     "output_type": "stream",
     "name": "stdout",
     "text": [
      "121/121 - 1s - 6ms/step - accuracy: 0.6582 - loss: 1.2926\n",
      "Test accuracy: 0.6581619381904602\n",
      "Test accuracy: 0.6581619381904602\n"
     ]
    }
   ],
   "metadata": {}
  }
 ],
 "nbformat": 4,
 "nbformat_minor": 2,
 "metadata": {
  "language_info": {
   "codemirror_mode": {
    "name": "ipython",
    "version": 3
   },
   "file_extension": ".py",
   "mimetype": "text/x-python",
   "name": "python",
   "nbconvert_exporter": "python",
   "pygments_lexer": "ipython3",
   "version": 3
  }
 }
}