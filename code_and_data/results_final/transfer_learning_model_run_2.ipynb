{
 "cells": [
  {
   "cell_type": "code",
   "execution_count": 1,
   "source": [
    "#!/bin/python3\n",
    "\n",
    "#%%\n",
    "import tensorflow as tf\n",
    "import keras\n",
    "import numpy as np\n",
    "import matplotlib.pyplot as plt\n",
    "import os\n",
    "import keras_tuner as kt\n",
    "import sklearn as skl\n",
    "from sklearn.model_selection import train_test_split\n",
    "\n",
    "print('Tensorflow version: ' + str(tf.__version__))\n",
    "print('Keras version: ' + str(keras.__version__))\n",
    "print('KerasTuner version: ' + str(kt.__version__))\n",
    "print('Scikit-learn version: ' + str(skl.__version__))"
   ],
   "outputs": [
    {
     "output_type": "stream",
     "name": "stdout",
     "text": [
      "Tensorflow version: 2.15.0\n",
      "Keras version: 3.0.5\n",
      "KerasTuner version: 1.4.6\n",
      "Scikit-learn version: 1.3.0\n"
     ]
    }
   ],
   "metadata": {}
  },
  {
   "cell_type": "code",
   "execution_count": 2,
   "source": [
    "# load the datasets\n",
    "path = './datasets/GTSRB/'\n",
    "\n",
    "print('Loading datasets...')\n",
    "training = np.load(os.path.join(path, 'training.npz'), allow_pickle=True)\n",
    "testing = np.load(os.path.join(path, 'testing.npz'), allow_pickle=True)\n",
    "\n",
    "X_train = training['X']\n",
    "y_train = training['y']\n",
    "\n",
    "X_test = testing['X']\n",
    "y_test = testing['y']"
   ],
   "outputs": [
    {
     "output_type": "stream",
     "name": "stdout",
     "text": [
      "Loading datasets...\n"
     ]
    }
   ],
   "metadata": {}
  },
  {
   "cell_type": "code",
   "execution_count": 3,
   "source": [
    "# converting datatypes\n",
    "X_train = np.asarray(X_train).astype('float32')\n",
    "X_test = np.asarray(X_test).astype('float32')"
   ],
   "outputs": [],
   "metadata": {}
  },
  {
   "cell_type": "code",
   "execution_count": 4,
   "source": [
    "# split training data into training and validation set\n",
    "X_train, X_valid, y_train, y_valid = train_test_split(X_train, y_train, test_size=0.2,\n",
    "                                                      shuffle=True)"
   ],
   "outputs": [],
   "metadata": {}
  },
  {
   "cell_type": "code",
   "execution_count": 5,
   "source": [
    "# augment data\n",
    "\n",
    "def augment_data(X):\n",
    "    layers = [\n",
    "        tf.keras.layers.RandomRotation(1/8), # 45 degrees, either cw/ccw\n",
    "        tf.keras.layers.RandomTranslation(0.1, 0.1) # shift w/h by up to 10%\n",
    "    ]\n",
    "\n",
    "    X_augmented = []\n",
    "\n",
    "    for x in X:\n",
    "        for layer in layers:\n",
    "            x = layer(x)\n",
    "        \n",
    "        X_augmented.append(x)\n",
    "    \n",
    "    return np.asarray(X_augmented).astype('float32')\n",
    "\n",
    "print('Augmenting training and validation data...')\n",
    "X_train = tf.py_function(func=augment_data, inp=[X_train], Tout=tf.float32)\n",
    "X_valid = tf.py_function(func=augment_data, inp=[X_valid], Tout=tf.float32)"
   ],
   "outputs": [
    {
     "output_type": "stream",
     "name": "stdout",
     "text": [
      "Augmenting training and validation data...\n"
     ]
    }
   ],
   "metadata": {}
  },
  {
   "cell_type": "code",
   "execution_count": 6,
   "source": [
    "# resizing\n",
    "print('Resizing...')\n",
    "\n",
    "X_train = tf.image.resize(X_train, [224, 224], method='nearest')\n",
    "X_valid = tf.image.resize(X_valid, [224, 224], method='nearest')\n",
    "X_test = tf.image.resize(X_test, [224, 224], method='nearest')"
   ],
   "outputs": [
    {
     "output_type": "stream",
     "name": "stdout",
     "text": [
      "Resizing...\n"
     ]
    }
   ],
   "metadata": {}
  },
  {
   "cell_type": "code",
   "execution_count": 7,
   "source": [
    "# build model\n",
    "print('Searching and building a model based on MobileNet...')\n",
    "\n",
    "def build_model(hp):\n",
    "    activation_functions = ['relu', 'sigmoid', 'softmax', 'softplus', 'softsign', 'tanh',\n",
    "                            'selu', 'elu', 'exponential', 'leaky_relu', 'relu6', 'silu',\n",
    "                            'gelu', 'hard_sigmoid', 'log_softmax', 'mish', 'linear']\n",
    "    units_lc0 = hp.Int('units_lc0', 64, 256, 32)\n",
    "    activation_lc0 = hp.Choice('activation_lc0', activation_functions)\n",
    "    units_lc1 = hp.Int('units_lc1', 64, 256, 32)\n",
    "    activation_lc1 = hp.Choice('activation_lc1', activation_functions)\n",
    "    dropout_l = hp.Float('dropout_l', 0.0, 0.5)\n",
    "    activation_final = hp.Choice('activation_final', activation_functions)\n",
    "\n",
    "    mobilenet_model = tf.keras.applications.MobileNet(\n",
    "        weights=\"imagenet\",\n",
    "        input_shape=(224, 224, 3),\n",
    "        include_top=False\n",
    "    )\n",
    "\n",
    "    mobilenet_model.trainable = False\n",
    "\n",
    "    input_layer = tf.keras.layers.Input(shape=(224, 224, 3))\n",
    "    input_layer = tf.keras.layers.Rescaling(scale=1.0 / 127.5, offset=-1)(input_layer)\n",
    "\n",
    "    final_model = mobilenet_model(input_layer,\n",
    "                                  training=False)\n",
    "    final_model = tf.keras.layers.GlobalMaxPooling2D()(final_model)\n",
    "    final_model = tf.keras.layers.Flatten()(final_model)\n",
    "    final_model = tf.keras.layers.Dense(units_lc0, activation=activation_lc0)(final_model)\n",
    "    final_model = tf.keras.layers.Dense(units_lc1, activation=activation_lc1)(final_model)\n",
    "    final_model = tf.keras.layers.Dropout(dropout_l)(final_model)\n",
    "    final_model = tf.keras.layers.Dense(43, activation=activation_final)(final_model) # 43 classes\n",
    "\n",
    "    final_model = tf.keras.Model(input_layer, final_model)\n",
    "\n",
    "    loss_from_logits = True\n",
    "    if activation_final in ['sigmoid', 'softmax']:\n",
    "        loss_from_logits = False\n",
    "\n",
    "    final_model.compile(optimizer=tf.keras.optimizers.Adam(learning_rate=0.001),\n",
    "                  loss=tf.keras.losses.SparseCategoricalCrossentropy(from_logits=loss_from_logits),\n",
    "                  metrics=['accuracy'])\n",
    "    # final_model.summary(show_trainable=True)\n",
    "    \n",
    "    return final_model\n",
    "\n",
    "tuner = kt.BayesianOptimization(build_model,\n",
    "                        project_name='kt_transfer_learning_model',\n",
    "                        objective='val_accuracy',\n",
    "                        max_trials=20,\n",
    "                        seed=42\n",
    "                        )\n",
    "tuner.search(X_train, y_train, epochs=3, validation_data=(X_valid, y_valid), callbacks=[\n",
    "    tf.keras.callbacks.EarlyStopping(monitor='val_loss', patience=1)\n",
    "])\n",
    "tuner.results_summary()\n",
    "model = tuner.get_best_models()[0]\n",
    "\n",
    "model.summary(show_trainable=True)"
   ],
   "outputs": [
    {
     "output_type": "stream",
     "name": "stdout",
     "text": [
      "Searching and building a model based on MobileNet...\n",
      "Reloading Tuner from .\\kt_transfer_learning_model\\tuner0.json\n",
      "Results summary\n",
      "Results in .\\kt_transfer_learning_model\n",
      "Showing 10 best trials\n",
      "Objective(name=\"val_accuracy\", direction=\"max\")\n",
      "\n",
      "Trial 19 summary\n",
      "Hyperparameters:\n",
      "units_lc0: 64\n",
      "activation_lc0: leaky_relu\n",
      "units_lc1: 160\n",
      "activation_lc1: relu6\n",
      "dropout_l: 0.3630456668613308\n",
      "activation_final: linear\n",
      "Score: 0.8009631037712097\n",
      "\n",
      "Trial 18 summary\n",
      "Hyperparameters:\n",
      "units_lc0: 128\n",
      "activation_lc0: linear\n",
      "units_lc1: 224\n",
      "activation_lc1: relu6\n",
      "dropout_l: 0.07800932022121826\n",
      "activation_final: softmax\n",
      "Score: 0.7937399744987488\n",
      "\n",
      "Trial 02 summary\n",
      "Hyperparameters:\n",
      "units_lc0: 256\n",
      "activation_lc0: sigmoid\n",
      "units_lc1: 256\n",
      "activation_lc1: relu\n",
      "dropout_l: 0.29037858246697834\n",
      "activation_final: softplus\n",
      "Score: 0.7580257058143616\n",
      "\n",
      "Trial 09 summary\n",
      "Hyperparameters:\n",
      "units_lc0: 128\n",
      "activation_lc0: softplus\n",
      "units_lc1: 128\n",
      "activation_lc1: selu\n",
      "dropout_l: 0.07283462755206516\n",
      "activation_final: leaky_relu\n",
      "Score: 0.754815399646759\n",
      "\n",
      "Trial 12 summary\n",
      "Hyperparameters:\n",
      "units_lc0: 96\n",
      "activation_lc0: mish\n",
      "units_lc1: 224\n",
      "activation_lc1: softsign\n",
      "dropout_l: 0.35549113389814224\n",
      "activation_final: mish\n",
      "Score: 0.711476743221283\n",
      "\n",
      "Trial 01 summary\n",
      "Hyperparameters:\n",
      "units_lc0: 160\n",
      "activation_lc0: sigmoid\n",
      "units_lc1: 160\n",
      "activation_lc1: softsign\n",
      "dropout_l: 0.48917742918549834\n",
      "activation_final: relu6\n",
      "Score: 0.6821829676628113\n",
      "\n",
      "Trial 13 summary\n",
      "Hyperparameters:\n",
      "units_lc0: 160\n",
      "activation_lc0: sigmoid\n",
      "units_lc1: 160\n",
      "activation_lc1: relu\n",
      "dropout_l: 0.4803903783776163\n",
      "activation_final: mish\n",
      "Score: 0.6801765561103821\n",
      "\n",
      "Trial 08 summary\n",
      "Hyperparameters:\n",
      "units_lc0: 96\n",
      "activation_lc0: sigmoid\n",
      "units_lc1: 128\n",
      "activation_lc1: mish\n",
      "dropout_l: 0.27340077676831653\n",
      "activation_final: gelu\n",
      "Score: 0.6717495918273926\n",
      "\n",
      "Trial 04 summary\n",
      "Hyperparameters:\n",
      "units_lc0: 64\n",
      "activation_lc0: sigmoid\n",
      "units_lc1: 224\n",
      "activation_lc1: silu\n",
      "dropout_l: 0.454884618961936\n",
      "activation_final: tanh\n",
      "Score: 0.3800160586833954\n",
      "\n",
      "Trial 00 summary\n",
      "Hyperparameters:\n",
      "units_lc0: 192\n",
      "activation_lc0: relu\n",
      "units_lc1: 128\n",
      "activation_lc1: softsign\n",
      "dropout_l: 0.44413403822624403\n",
      "activation_final: tanh\n",
      "Score: 0.3671749532222748\n",
      "WARNING:tensorflow:From c:\\Users\\leona\\anaconda3\\Lib\\site-packages\\keras\\src\\backend\\common\\global_state.py:73: The name tf.reset_default_graph is deprecated. Please use tf.compat.v1.reset_default_graph instead.\n",
      "\n"
     ]
    },
    {
     "output_type": "stream",
     "name": "stderr",
     "text": [
      "c:\\Users\\leona\\anaconda3\\Lib\\site-packages\\keras\\src\\saving\\saving_lib.py:396: UserWarning: Skipping variable loading for optimizer 'adam', because it has 2 variables whereas the saved optimizer has 14 variables. \n",
      "  trackable.load_own_variables(weights_store.get(inner_path))\n"
     ]
    },
    {
     "output_type": "display_data",
     "data": {
      "text/html": [
       "<pre style=\"white-space:pre;overflow-x:auto;line-height:normal;font-family:Menlo,'DejaVu Sans Mono',consolas,'Courier New',monospace\"><span style=\"font-weight: bold\">Model: \"functional_1\"</span>\n",
       "</pre>\n"
      ],
      "text/plain": [
       "\u001b[1mModel: \"functional_1\"\u001b[0m\n"
      ]
     },
     "metadata": {}
    },
    {
     "output_type": "display_data",
     "data": {
      "text/html": [
       "<pre style=\"white-space:pre;overflow-x:auto;line-height:normal;font-family:Menlo,'DejaVu Sans Mono',consolas,'Courier New',monospace\">┏━━━━━━━━━━━━━━━━━━━━━━━━━━━━━┳━━━━━━━━━━━━━━━━━━━━━━━┳━━━━━━━━━━━━┳━━━━━━━┓\n",
       "┃<span style=\"font-weight: bold\"> Layer (type)                </span>┃<span style=\"font-weight: bold\"> Output Shape          </span>┃<span style=\"font-weight: bold\">    Param # </span>┃<span style=\"font-weight: bold\"> Trai… </span>┃\n",
       "┡━━━━━━━━━━━━━━━━━━━━━━━━━━━━━╇━━━━━━━━━━━━━━━━━━━━━━━╇━━━━━━━━━━━━╇━━━━━━━┩\n",
       "│ input_layer_1 (<span style=\"color: #0087ff; text-decoration-color: #0087ff\">InputLayer</span>)  │ (<span style=\"color: #00d7ff; text-decoration-color: #00d7ff\">None</span>, <span style=\"color: #00af00; text-decoration-color: #00af00\">224</span>, <span style=\"color: #00af00; text-decoration-color: #00af00\">224</span>, <span style=\"color: #00af00; text-decoration-color: #00af00\">3</span>)   │          <span style=\"color: #00af00; text-decoration-color: #00af00\">0</span> │   <span style=\"font-weight: bold\">-</span>   │\n",
       "├─────────────────────────────┼───────────────────────┼────────────┼───────┤\n",
       "│ rescaling (<span style=\"color: #0087ff; text-decoration-color: #0087ff\">Rescaling</span>)       │ (<span style=\"color: #00d7ff; text-decoration-color: #00d7ff\">None</span>, <span style=\"color: #00af00; text-decoration-color: #00af00\">224</span>, <span style=\"color: #00af00; text-decoration-color: #00af00\">224</span>, <span style=\"color: #00af00; text-decoration-color: #00af00\">3</span>)   │          <span style=\"color: #00af00; text-decoration-color: #00af00\">0</span> │   <span style=\"font-weight: bold\">-</span>   │\n",
       "├─────────────────────────────┼───────────────────────┼────────────┼───────┤\n",
       "│ mobilenet_1.00_224          │ (<span style=\"color: #00d7ff; text-decoration-color: #00d7ff\">None</span>, <span style=\"color: #00af00; text-decoration-color: #00af00\">7</span>, <span style=\"color: #00af00; text-decoration-color: #00af00\">7</span>, <span style=\"color: #00af00; text-decoration-color: #00af00\">1024</span>)    │  <span style=\"color: #00af00; text-decoration-color: #00af00\">3,228,864</span> │   <span style=\"color: #ff0000; text-decoration-color: #ff0000; font-weight: bold\">N</span>   │\n",
       "│ (<span style=\"color: #0087ff; text-decoration-color: #0087ff\">Functional</span>)                │                       │            │       │\n",
       "├─────────────────────────────┼───────────────────────┼────────────┼───────┤\n",
       "│ global_max_pooling2d        │ (<span style=\"color: #00d7ff; text-decoration-color: #00d7ff\">None</span>, <span style=\"color: #00af00; text-decoration-color: #00af00\">1024</span>)          │          <span style=\"color: #00af00; text-decoration-color: #00af00\">0</span> │   <span style=\"font-weight: bold\">-</span>   │\n",
       "│ (<span style=\"color: #0087ff; text-decoration-color: #0087ff\">GlobalMaxPooling2D</span>)        │                       │            │       │\n",
       "├─────────────────────────────┼───────────────────────┼────────────┼───────┤\n",
       "│ flatten (<span style=\"color: #0087ff; text-decoration-color: #0087ff\">Flatten</span>)           │ (<span style=\"color: #00d7ff; text-decoration-color: #00d7ff\">None</span>, <span style=\"color: #00af00; text-decoration-color: #00af00\">1024</span>)          │          <span style=\"color: #00af00; text-decoration-color: #00af00\">0</span> │   <span style=\"font-weight: bold\">-</span>   │\n",
       "├─────────────────────────────┼───────────────────────┼────────────┼───────┤\n",
       "│ dense (<span style=\"color: #0087ff; text-decoration-color: #0087ff\">Dense</span>)               │ (<span style=\"color: #00d7ff; text-decoration-color: #00d7ff\">None</span>, <span style=\"color: #00af00; text-decoration-color: #00af00\">64</span>)            │     <span style=\"color: #00af00; text-decoration-color: #00af00\">65,600</span> │   <span style=\"color: #00af00; text-decoration-color: #00af00; font-weight: bold\">Y</span>   │\n",
       "├─────────────────────────────┼───────────────────────┼────────────┼───────┤\n",
       "│ dense_1 (<span style=\"color: #0087ff; text-decoration-color: #0087ff\">Dense</span>)             │ (<span style=\"color: #00d7ff; text-decoration-color: #00d7ff\">None</span>, <span style=\"color: #00af00; text-decoration-color: #00af00\">160</span>)           │     <span style=\"color: #00af00; text-decoration-color: #00af00\">10,400</span> │   <span style=\"color: #00af00; text-decoration-color: #00af00; font-weight: bold\">Y</span>   │\n",
       "├─────────────────────────────┼───────────────────────┼────────────┼───────┤\n",
       "│ dropout (<span style=\"color: #0087ff; text-decoration-color: #0087ff\">Dropout</span>)           │ (<span style=\"color: #00d7ff; text-decoration-color: #00d7ff\">None</span>, <span style=\"color: #00af00; text-decoration-color: #00af00\">160</span>)           │          <span style=\"color: #00af00; text-decoration-color: #00af00\">0</span> │   <span style=\"font-weight: bold\">-</span>   │\n",
       "├─────────────────────────────┼───────────────────────┼────────────┼───────┤\n",
       "│ dense_2 (<span style=\"color: #0087ff; text-decoration-color: #0087ff\">Dense</span>)             │ (<span style=\"color: #00d7ff; text-decoration-color: #00d7ff\">None</span>, <span style=\"color: #00af00; text-decoration-color: #00af00\">43</span>)            │      <span style=\"color: #00af00; text-decoration-color: #00af00\">6,923</span> │   <span style=\"color: #00af00; text-decoration-color: #00af00; font-weight: bold\">Y</span>   │\n",
       "└─────────────────────────────┴───────────────────────┴────────────┴───────┘\n",
       "</pre>\n"
      ],
      "text/plain": [
       "┏━━━━━━━━━━━━━━━━━━━━━━━━━━━━━┳━━━━━━━━━━━━━━━━━━━━━━━┳━━━━━━━━━━━━┳━━━━━━━┓\n",
       "┃\u001b[1m \u001b[0m\u001b[1mLayer (type)               \u001b[0m\u001b[1m \u001b[0m┃\u001b[1m \u001b[0m\u001b[1mOutput Shape         \u001b[0m\u001b[1m \u001b[0m┃\u001b[1m \u001b[0m\u001b[1m   Param #\u001b[0m\u001b[1m \u001b[0m┃\u001b[1m \u001b[0m\u001b[1mTrai…\u001b[0m\u001b[1m \u001b[0m┃\n",
       "┡━━━━━━━━━━━━━━━━━━━━━━━━━━━━━╇━━━━━━━━━━━━━━━━━━━━━━━╇━━━━━━━━━━━━╇━━━━━━━┩\n",
       "│ input_layer_1 (\u001b[38;5;33mInputLayer\u001b[0m)  │ (\u001b[38;5;45mNone\u001b[0m, \u001b[38;5;34m224\u001b[0m, \u001b[38;5;34m224\u001b[0m, \u001b[38;5;34m3\u001b[0m)   │          \u001b[38;5;34m0\u001b[0m │   \u001b[1m-\u001b[0m   │\n",
       "├─────────────────────────────┼───────────────────────┼────────────┼───────┤\n",
       "│ rescaling (\u001b[38;5;33mRescaling\u001b[0m)       │ (\u001b[38;5;45mNone\u001b[0m, \u001b[38;5;34m224\u001b[0m, \u001b[38;5;34m224\u001b[0m, \u001b[38;5;34m3\u001b[0m)   │          \u001b[38;5;34m0\u001b[0m │   \u001b[1m-\u001b[0m   │\n",
       "├─────────────────────────────┼───────────────────────┼────────────┼───────┤\n",
       "│ mobilenet_1.00_224          │ (\u001b[38;5;45mNone\u001b[0m, \u001b[38;5;34m7\u001b[0m, \u001b[38;5;34m7\u001b[0m, \u001b[38;5;34m1024\u001b[0m)    │  \u001b[38;5;34m3,228,864\u001b[0m │   \u001b[1;91mN\u001b[0m   │\n",
       "│ (\u001b[38;5;33mFunctional\u001b[0m)                │                       │            │       │\n",
       "├─────────────────────────────┼───────────────────────┼────────────┼───────┤\n",
       "│ global_max_pooling2d        │ (\u001b[38;5;45mNone\u001b[0m, \u001b[38;5;34m1024\u001b[0m)          │          \u001b[38;5;34m0\u001b[0m │   \u001b[1m-\u001b[0m   │\n",
       "│ (\u001b[38;5;33mGlobalMaxPooling2D\u001b[0m)        │                       │            │       │\n",
       "├─────────────────────────────┼───────────────────────┼────────────┼───────┤\n",
       "│ flatten (\u001b[38;5;33mFlatten\u001b[0m)           │ (\u001b[38;5;45mNone\u001b[0m, \u001b[38;5;34m1024\u001b[0m)          │          \u001b[38;5;34m0\u001b[0m │   \u001b[1m-\u001b[0m   │\n",
       "├─────────────────────────────┼───────────────────────┼────────────┼───────┤\n",
       "│ dense (\u001b[38;5;33mDense\u001b[0m)               │ (\u001b[38;5;45mNone\u001b[0m, \u001b[38;5;34m64\u001b[0m)            │     \u001b[38;5;34m65,600\u001b[0m │   \u001b[1;38;5;34mY\u001b[0m   │\n",
       "├─────────────────────────────┼───────────────────────┼────────────┼───────┤\n",
       "│ dense_1 (\u001b[38;5;33mDense\u001b[0m)             │ (\u001b[38;5;45mNone\u001b[0m, \u001b[38;5;34m160\u001b[0m)           │     \u001b[38;5;34m10,400\u001b[0m │   \u001b[1;38;5;34mY\u001b[0m   │\n",
       "├─────────────────────────────┼───────────────────────┼────────────┼───────┤\n",
       "│ dropout (\u001b[38;5;33mDropout\u001b[0m)           │ (\u001b[38;5;45mNone\u001b[0m, \u001b[38;5;34m160\u001b[0m)           │          \u001b[38;5;34m0\u001b[0m │   \u001b[1m-\u001b[0m   │\n",
       "├─────────────────────────────┼───────────────────────┼────────────┼───────┤\n",
       "│ dense_2 (\u001b[38;5;33mDense\u001b[0m)             │ (\u001b[38;5;45mNone\u001b[0m, \u001b[38;5;34m43\u001b[0m)            │      \u001b[38;5;34m6,923\u001b[0m │   \u001b[1;38;5;34mY\u001b[0m   │\n",
       "└─────────────────────────────┴───────────────────────┴────────────┴───────┘\n"
      ]
     },
     "metadata": {}
    },
    {
     "output_type": "display_data",
     "data": {
      "text/html": [
       "<pre style=\"white-space:pre;overflow-x:auto;line-height:normal;font-family:Menlo,'DejaVu Sans Mono',consolas,'Courier New',monospace\"><span style=\"font-weight: bold\"> Total params: </span><span style=\"color: #00af00; text-decoration-color: #00af00\">3,311,787</span> (12.63 MB)\n",
       "</pre>\n"
      ],
      "text/plain": [
       "\u001b[1m Total params: \u001b[0m\u001b[38;5;34m3,311,787\u001b[0m (12.63 MB)\n"
      ]
     },
     "metadata": {}
    },
    {
     "output_type": "display_data",
     "data": {
      "text/html": [
       "<pre style=\"white-space:pre;overflow-x:auto;line-height:normal;font-family:Menlo,'DejaVu Sans Mono',consolas,'Courier New',monospace\"><span style=\"font-weight: bold\"> Trainable params: </span><span style=\"color: #00af00; text-decoration-color: #00af00\">82,923</span> (323.92 KB)\n",
       "</pre>\n"
      ],
      "text/plain": [
       "\u001b[1m Trainable params: \u001b[0m\u001b[38;5;34m82,923\u001b[0m (323.92 KB)\n"
      ]
     },
     "metadata": {}
    },
    {
     "output_type": "display_data",
     "data": {
      "text/html": [
       "<pre style=\"white-space:pre;overflow-x:auto;line-height:normal;font-family:Menlo,'DejaVu Sans Mono',consolas,'Courier New',monospace\"><span style=\"font-weight: bold\"> Non-trainable params: </span><span style=\"color: #00af00; text-decoration-color: #00af00\">3,228,864</span> (12.32 MB)\n",
       "</pre>\n"
      ],
      "text/plain": [
       "\u001b[1m Non-trainable params: \u001b[0m\u001b[38;5;34m3,228,864\u001b[0m (12.32 MB)\n"
      ]
     },
     "metadata": {}
    }
   ],
   "metadata": {}
  },
  {
   "cell_type": "code",
   "execution_count": 8,
   "source": [
    "# fit model\n",
    "print('Fitting model...')\n",
    "history = model.fit(X_train, y_train, epochs=50, validation_data=(X_valid, y_valid), callbacks=[\n",
    "    tf.keras.callbacks.EarlyStopping(monitor='val_loss', patience=5,\n",
    "                                     restore_best_weights=True)\n",
    "])"
   ],
   "outputs": [
    {
     "output_type": "stream",
     "name": "stdout",
     "text": [
      "Fitting model...\n",
      "Epoch 1/50\n",
      "\u001b[1m312/312\u001b[0m \u001b[32m━━━━━━━━━━━━━━━━━━━━\u001b[0m\u001b[37m\u001b[0m \u001b[1m123s\u001b[0m 381ms/step - accuracy: 0.7205 - loss: 0.8418 - val_accuracy: 0.7986 - val_loss: 0.5445\n",
      "Epoch 2/50\n",
      "\u001b[1m312/312\u001b[0m \u001b[32m━━━━━━━━━━━━━━━━━━━━\u001b[0m\u001b[37m\u001b[0m \u001b[1m99s\u001b[0m 316ms/step - accuracy: 0.7831 - loss: 0.6198 - val_accuracy: 0.8170 - val_loss: 0.5212\n",
      "Epoch 3/50\n",
      "\u001b[1m312/312\u001b[0m \u001b[32m━━━━━━━━━━━━━━━━━━━━\u001b[0m\u001b[37m\u001b[0m \u001b[1m98s\u001b[0m 313ms/step - accuracy: 0.8213 - loss: 0.5073 - val_accuracy: 0.8343 - val_loss: 0.4670\n",
      "Epoch 4/50\n",
      "\u001b[1m312/312\u001b[0m \u001b[32m━━━━━━━━━━━━━━━━━━━━\u001b[0m\u001b[37m\u001b[0m \u001b[1m98s\u001b[0m 315ms/step - accuracy: 0.8508 - loss: 0.4181 - val_accuracy: 0.8523 - val_loss: 0.4116\n",
      "Epoch 5/50\n",
      "\u001b[1m312/312\u001b[0m \u001b[32m━━━━━━━━━━━━━━━━━━━━\u001b[0m\u001b[37m\u001b[0m \u001b[1m97s\u001b[0m 312ms/step - accuracy: 0.8604 - loss: 0.4056 - val_accuracy: 0.8307 - val_loss: 0.5175\n",
      "Epoch 6/50\n",
      "\u001b[1m312/312\u001b[0m \u001b[32m━━━━━━━━━━━━━━━━━━━━\u001b[0m\u001b[37m\u001b[0m \u001b[1m98s\u001b[0m 313ms/step - accuracy: 0.8869 - loss: 0.3347 - val_accuracy: 0.8772 - val_loss: 0.3488\n",
      "Epoch 7/50\n",
      "\u001b[1m312/312\u001b[0m \u001b[32m━━━━━━━━━━━━━━━━━━━━\u001b[0m\u001b[37m\u001b[0m \u001b[1m89s\u001b[0m 286ms/step - accuracy: 0.9017 - loss: 0.2733 - val_accuracy: 0.8832 - val_loss: 0.3607\n",
      "Epoch 8/50\n",
      "\u001b[1m312/312\u001b[0m \u001b[32m━━━━━━━━━━━━━━━━━━━━\u001b[0m\u001b[37m\u001b[0m \u001b[1m90s\u001b[0m 289ms/step - accuracy: 0.9178 - loss: 0.2406 - val_accuracy: 0.8868 - val_loss: 0.3203\n",
      "Epoch 9/50\n",
      "\u001b[1m312/312\u001b[0m \u001b[32m━━━━━━━━━━━━━━━━━━━━\u001b[0m\u001b[37m\u001b[0m \u001b[1m94s\u001b[0m 302ms/step - accuracy: 0.9199 - loss: 0.2328 - val_accuracy: 0.8796 - val_loss: 0.3738\n",
      "Epoch 10/50\n",
      "\u001b[1m312/312\u001b[0m \u001b[32m━━━━━━━━━━━━━━━━━━━━\u001b[0m\u001b[37m\u001b[0m \u001b[1m90s\u001b[0m 288ms/step - accuracy: 0.9373 - loss: 0.1868 - val_accuracy: 0.8888 - val_loss: 0.3415\n",
      "Epoch 11/50\n",
      "\u001b[1m312/312\u001b[0m \u001b[32m━━━━━━━━━━━━━━━━━━━━\u001b[0m\u001b[37m\u001b[0m \u001b[1m89s\u001b[0m 286ms/step - accuracy: 0.9381 - loss: 0.1862 - val_accuracy: 0.8772 - val_loss: 0.4004\n",
      "Epoch 12/50\n",
      "\u001b[1m312/312\u001b[0m \u001b[32m━━━━━━━━━━━━━━━━━━━━\u001b[0m\u001b[37m\u001b[0m \u001b[1m90s\u001b[0m 288ms/step - accuracy: 0.9453 - loss: 0.1645 - val_accuracy: 0.8620 - val_loss: 0.4515\n",
      "Epoch 13/50\n",
      "\u001b[1m312/312\u001b[0m \u001b[32m━━━━━━━━━━━━━━━━━━━━\u001b[0m\u001b[37m\u001b[0m \u001b[1m91s\u001b[0m 290ms/step - accuracy: 0.9364 - loss: 0.1841 - val_accuracy: 0.8844 - val_loss: 0.4176\n"
     ]
    }
   ],
   "metadata": {}
  },
  {
   "cell_type": "code",
   "execution_count": 9,
   "source": [
    "# save model\n",
    "model.save('transfer_learning_model.keras')"
   ],
   "outputs": [],
   "metadata": {}
  },
  {
   "cell_type": "code",
   "execution_count": 10,
   "source": [
    "# load model\n",
    "model = tf.keras.models.load_model('transfer_learning_model.keras')"
   ],
   "outputs": [
    {
     "output_type": "stream",
     "name": "stderr",
     "text": [
      "c:\\Users\\leona\\anaconda3\\Lib\\site-packages\\keras\\src\\saving\\saving_lib.py:396: UserWarning: Skipping variable loading for optimizer 'adam', because it has 176 variables whereas the saved optimizer has 14 variables. \n",
      "  trackable.load_own_variables(weights_store.get(inner_path))\n"
     ]
    }
   ],
   "metadata": {}
  },
  {
   "cell_type": "code",
   "execution_count": 11,
   "source": [
    "# testing\n",
    "test_loss, test_acc = model.evaluate(X_test, y_test, verbose=2)\n",
    "print('Test accuracy:', test_acc)"
   ],
   "outputs": [
    {
     "output_type": "stream",
     "name": "stdout",
     "text": [
      "121/121 - 30s - 250ms/step - accuracy: 0.8089 - loss: 0.7008\n",
      "Test accuracy: 0.8089039325714111\n"
     ]
    }
   ],
   "metadata": {}
  }
 ],
 "nbformat": 4,
 "nbformat_minor": 2,
 "metadata": {
  "language_info": {
   "codemirror_mode": {
    "name": "ipython",
    "version": 3
   },
   "file_extension": ".py",
   "mimetype": "text/x-python",
   "name": "python",
   "nbconvert_exporter": "python",
   "pygments_lexer": "ipython3",
   "version": 3
  }
 }
}